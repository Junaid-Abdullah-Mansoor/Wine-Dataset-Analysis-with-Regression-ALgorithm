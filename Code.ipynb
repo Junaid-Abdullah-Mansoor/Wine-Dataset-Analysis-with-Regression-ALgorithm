{
 "cells": [
  {
   "cell_type": "markdown",
   "id": "d60a3ba5",
   "metadata": {},
   "source": [
    "hey the product looks great! this was exaclty what I imagined. One question though. How did you do the headings? For example the \"Reading Data\" heading? In my notebook it tells me jupyter notebook no longer does heading cells. This may be a question that comes up in class and also could you add some explanation for the the Regression to Predict Ratings, Label encoding on catergorical data, and the three regression models at the end, but outside those small tweaks it looks great!"
   ]
  },
  {
   "cell_type": "code",
   "execution_count": 53,
   "id": "c56ed888",
   "metadata": {},
   "outputs": [],
   "source": [
    "import pandas as pd\n",
    "import numpy as np\n",
    "import matplotlib.pyplot as plt\n",
    "import seaborn as sns\n",
    "from sklearn.preprocessing import LabelEncoder, StandardScaler\n",
    "from sklearn.linear_model import LinearRegression, Ridge, Lasso\n",
    "from sklearn.model_selection import train_test_split\n",
    "from sklearn.metrics import r2_score, mean_squared_error\n",
    "\n",
    "plt.rcParams[\"figure.figsize\"] = (4,3)\n",
    "\n",
    "import warnings\n",
    "warnings.filterwarnings('ignore')"
   ]
  },
  {
   "cell_type": "markdown",
   "id": "67466b20",
   "metadata": {},
   "source": [
    "### Reading Data"
   ]
  },
  {
   "cell_type": "code",
   "execution_count": 2,
   "id": "4179250a",
   "metadata": {},
   "outputs": [],
   "source": [
    "df_red = pd.read_csv('Red.csv')\n",
    "df_rose = pd.read_csv('Rose.csv')\n",
    "df_spark = pd.read_csv('Sparkling.csv')\n",
    "df_white = pd.read_csv('White.csv')"
   ]
  },
  {
   "cell_type": "markdown",
   "id": "8a21127a",
   "metadata": {},
   "source": [
    "### Shape of Data"
   ]
  },
  {
   "cell_type": "code",
   "execution_count": 55,
   "id": "6be8c88e",
   "metadata": {},
   "outputs": [
    {
     "name": "stdout",
     "output_type": "stream",
     "text": [
      "(8666, 9)\n",
      "(397, 9)\n",
      "(1007, 9)\n",
      "(3764, 9)\n"
     ]
    }
   ],
   "source": [
    "print(df_red.shape)\n",
    "print(df_rose.shape)\n",
    "print(df_spark.shape)\n",
    "print(df_white.shape)"
   ]
  },
  {
   "cell_type": "code",
   "execution_count": 5,
   "id": "af2e92df",
   "metadata": {},
   "outputs": [
    {
     "data": {
      "text/html": [
       "<div>\n",
       "<style scoped>\n",
       "    .dataframe tbody tr th:only-of-type {\n",
       "        vertical-align: middle;\n",
       "    }\n",
       "\n",
       "    .dataframe tbody tr th {\n",
       "        vertical-align: top;\n",
       "    }\n",
       "\n",
       "    .dataframe thead th {\n",
       "        text-align: right;\n",
       "    }\n",
       "</style>\n",
       "<table border=\"1\" class=\"dataframe\">\n",
       "  <thead>\n",
       "    <tr style=\"text-align: right;\">\n",
       "      <th></th>\n",
       "      <th>Name</th>\n",
       "      <th>Country</th>\n",
       "      <th>Region</th>\n",
       "      <th>Winery</th>\n",
       "      <th>Rating</th>\n",
       "      <th>NumberOfRatings</th>\n",
       "      <th>Price</th>\n",
       "      <th>Year</th>\n",
       "    </tr>\n",
       "  </thead>\n",
       "  <tbody>\n",
       "    <tr>\n",
       "      <th>0</th>\n",
       "      <td>Pomerol 2011</td>\n",
       "      <td>France</td>\n",
       "      <td>Pomerol</td>\n",
       "      <td>Château La Providence</td>\n",
       "      <td>4.2</td>\n",
       "      <td>100</td>\n",
       "      <td>95.00</td>\n",
       "      <td>2011</td>\n",
       "    </tr>\n",
       "    <tr>\n",
       "      <th>1</th>\n",
       "      <td>Lirac 2017</td>\n",
       "      <td>France</td>\n",
       "      <td>Lirac</td>\n",
       "      <td>Château Mont-Redon</td>\n",
       "      <td>4.3</td>\n",
       "      <td>100</td>\n",
       "      <td>15.50</td>\n",
       "      <td>2017</td>\n",
       "    </tr>\n",
       "    <tr>\n",
       "      <th>2</th>\n",
       "      <td>Erta e China Rosso di Toscana 2015</td>\n",
       "      <td>Italy</td>\n",
       "      <td>Toscana</td>\n",
       "      <td>Renzo Masi</td>\n",
       "      <td>3.9</td>\n",
       "      <td>100</td>\n",
       "      <td>7.45</td>\n",
       "      <td>2015</td>\n",
       "    </tr>\n",
       "    <tr>\n",
       "      <th>3</th>\n",
       "      <td>Bardolino 2019</td>\n",
       "      <td>Italy</td>\n",
       "      <td>Bardolino</td>\n",
       "      <td>Cavalchina</td>\n",
       "      <td>3.5</td>\n",
       "      <td>100</td>\n",
       "      <td>8.72</td>\n",
       "      <td>2019</td>\n",
       "    </tr>\n",
       "    <tr>\n",
       "      <th>4</th>\n",
       "      <td>Ried Scheibner Pinot Noir 2016</td>\n",
       "      <td>Austria</td>\n",
       "      <td>Carnuntum</td>\n",
       "      <td>Markowitsch</td>\n",
       "      <td>3.9</td>\n",
       "      <td>100</td>\n",
       "      <td>29.15</td>\n",
       "      <td>2016</td>\n",
       "    </tr>\n",
       "  </tbody>\n",
       "</table>\n",
       "</div>"
      ],
      "text/plain": [
       "                                 Name  Country     Region  \\\n",
       "0                        Pomerol 2011   France    Pomerol   \n",
       "1                          Lirac 2017   France      Lirac   \n",
       "2  Erta e China Rosso di Toscana 2015    Italy    Toscana   \n",
       "3                      Bardolino 2019    Italy  Bardolino   \n",
       "4      Ried Scheibner Pinot Noir 2016  Austria  Carnuntum   \n",
       "\n",
       "                  Winery  Rating  NumberOfRatings  Price  Year  \n",
       "0  Château La Providence     4.2              100  95.00  2011  \n",
       "1     Château Mont-Redon     4.3              100  15.50  2017  \n",
       "2             Renzo Masi     3.9              100   7.45  2015  \n",
       "3             Cavalchina     3.5              100   8.72  2019  \n",
       "4            Markowitsch     3.9              100  29.15  2016  "
      ]
     },
     "execution_count": 5,
     "metadata": {},
     "output_type": "execute_result"
    }
   ],
   "source": [
    "df_red.head()"
   ]
  },
  {
   "cell_type": "code",
   "execution_count": 6,
   "id": "11d5684d",
   "metadata": {},
   "outputs": [
    {
     "data": {
      "text/html": [
       "<div>\n",
       "<style scoped>\n",
       "    .dataframe tbody tr th:only-of-type {\n",
       "        vertical-align: middle;\n",
       "    }\n",
       "\n",
       "    .dataframe tbody tr th {\n",
       "        vertical-align: top;\n",
       "    }\n",
       "\n",
       "    .dataframe thead th {\n",
       "        text-align: right;\n",
       "    }\n",
       "</style>\n",
       "<table border=\"1\" class=\"dataframe\">\n",
       "  <thead>\n",
       "    <tr style=\"text-align: right;\">\n",
       "      <th></th>\n",
       "      <th>Name</th>\n",
       "      <th>Country</th>\n",
       "      <th>Region</th>\n",
       "      <th>Winery</th>\n",
       "      <th>Rating</th>\n",
       "      <th>NumberOfRatings</th>\n",
       "      <th>Price</th>\n",
       "      <th>Year</th>\n",
       "    </tr>\n",
       "  </thead>\n",
       "  <tbody>\n",
       "    <tr>\n",
       "      <th>0</th>\n",
       "      <td>Mad Méditerranée Rosé 2019</td>\n",
       "      <td>France</td>\n",
       "      <td>Méditerranée</td>\n",
       "      <td>Château Camparnaud</td>\n",
       "      <td>4.0</td>\n",
       "      <td>25</td>\n",
       "      <td>10.11</td>\n",
       "      <td>2019</td>\n",
       "    </tr>\n",
       "    <tr>\n",
       "      <th>1</th>\n",
       "      <td>Redoma Rosé 2019</td>\n",
       "      <td>Portugal</td>\n",
       "      <td>Douro</td>\n",
       "      <td>Niepoort</td>\n",
       "      <td>3.9</td>\n",
       "      <td>25</td>\n",
       "      <td>12.81</td>\n",
       "      <td>2019</td>\n",
       "    </tr>\n",
       "    <tr>\n",
       "      <th>2</th>\n",
       "      <td>Fantini Cerasuolo d'Abruzzo 2019</td>\n",
       "      <td>Italy</td>\n",
       "      <td>Abruzzo</td>\n",
       "      <td>Farnese</td>\n",
       "      <td>3.6</td>\n",
       "      <td>25</td>\n",
       "      <td>5.60</td>\n",
       "      <td>2019</td>\n",
       "    </tr>\n",
       "    <tr>\n",
       "      <th>3</th>\n",
       "      <td>Mount Hermon Rosé 2017</td>\n",
       "      <td>Israel</td>\n",
       "      <td>Galilee</td>\n",
       "      <td>Hermon</td>\n",
       "      <td>3.4</td>\n",
       "      <td>25</td>\n",
       "      <td>12.14</td>\n",
       "      <td>2017</td>\n",
       "    </tr>\n",
       "    <tr>\n",
       "      <th>4</th>\n",
       "      <td>La Villa Rosé 2018</td>\n",
       "      <td>France</td>\n",
       "      <td>Languedoc</td>\n",
       "      <td>Château La Sauvageonne</td>\n",
       "      <td>4.6</td>\n",
       "      <td>25</td>\n",
       "      <td>68.95</td>\n",
       "      <td>2018</td>\n",
       "    </tr>\n",
       "  </tbody>\n",
       "</table>\n",
       "</div>"
      ],
      "text/plain": [
       "                               Name   Country        Region  \\\n",
       "0        Mad Méditerranée Rosé 2019    France  Méditerranée   \n",
       "1                  Redoma Rosé 2019  Portugal         Douro   \n",
       "2  Fantini Cerasuolo d'Abruzzo 2019     Italy       Abruzzo   \n",
       "3            Mount Hermon Rosé 2017    Israel       Galilee   \n",
       "4                La Villa Rosé 2018    France     Languedoc   \n",
       "\n",
       "                   Winery  Rating  NumberOfRatings  Price  Year  \n",
       "0      Château Camparnaud     4.0               25  10.11  2019  \n",
       "1                Niepoort     3.9               25  12.81  2019  \n",
       "2                 Farnese     3.6               25   5.60  2019  \n",
       "3                  Hermon     3.4               25  12.14  2017  \n",
       "4  Château La Sauvageonne     4.6               25  68.95  2018  "
      ]
     },
     "execution_count": 6,
     "metadata": {},
     "output_type": "execute_result"
    }
   ],
   "source": [
    "df_rose.head()"
   ]
  },
  {
   "cell_type": "code",
   "execution_count": 7,
   "id": "2406def0",
   "metadata": {},
   "outputs": [
    {
     "data": {
      "text/html": [
       "<div>\n",
       "<style scoped>\n",
       "    .dataframe tbody tr th:only-of-type {\n",
       "        vertical-align: middle;\n",
       "    }\n",
       "\n",
       "    .dataframe tbody tr th {\n",
       "        vertical-align: top;\n",
       "    }\n",
       "\n",
       "    .dataframe thead th {\n",
       "        text-align: right;\n",
       "    }\n",
       "</style>\n",
       "<table border=\"1\" class=\"dataframe\">\n",
       "  <thead>\n",
       "    <tr style=\"text-align: right;\">\n",
       "      <th></th>\n",
       "      <th>Name</th>\n",
       "      <th>Country</th>\n",
       "      <th>Region</th>\n",
       "      <th>Winery</th>\n",
       "      <th>Rating</th>\n",
       "      <th>NumberOfRatings</th>\n",
       "      <th>Price</th>\n",
       "      <th>Year</th>\n",
       "    </tr>\n",
       "  </thead>\n",
       "  <tbody>\n",
       "    <tr>\n",
       "      <th>0</th>\n",
       "      <td>Vermentino 2017</td>\n",
       "      <td>Italy</td>\n",
       "      <td>Toscana</td>\n",
       "      <td>Famiglia Castellani</td>\n",
       "      <td>3.8</td>\n",
       "      <td>25</td>\n",
       "      <td>5.65</td>\n",
       "      <td>2017</td>\n",
       "    </tr>\n",
       "    <tr>\n",
       "      <th>1</th>\n",
       "      <td>Ronco Broilo 2010</td>\n",
       "      <td>Italy</td>\n",
       "      <td>Colli Orientali del Friuli</td>\n",
       "      <td>Conte d'Attimis Maniago</td>\n",
       "      <td>4.3</td>\n",
       "      <td>25</td>\n",
       "      <td>44.90</td>\n",
       "      <td>2010</td>\n",
       "    </tr>\n",
       "    <tr>\n",
       "      <th>2</th>\n",
       "      <td>Weisser Schiefer s 2017</td>\n",
       "      <td>Austria</td>\n",
       "      <td>Südburgenland</td>\n",
       "      <td>Weinbau Uwe Schiefer</td>\n",
       "      <td>4.2</td>\n",
       "      <td>25</td>\n",
       "      <td>33.25</td>\n",
       "      <td>2017</td>\n",
       "    </tr>\n",
       "    <tr>\n",
       "      <th>3</th>\n",
       "      <td>Chardonnay 2018</td>\n",
       "      <td>Germany</td>\n",
       "      <td>Rheinhessen</td>\n",
       "      <td>Krämer - Straight</td>\n",
       "      <td>3.9</td>\n",
       "      <td>25</td>\n",
       "      <td>8.99</td>\n",
       "      <td>2018</td>\n",
       "    </tr>\n",
       "    <tr>\n",
       "      <th>4</th>\n",
       "      <td>Maganza Zibibbo 2018</td>\n",
       "      <td>Italy</td>\n",
       "      <td>Terre Siciliane</td>\n",
       "      <td>Luna Gaia</td>\n",
       "      <td>3.9</td>\n",
       "      <td>25</td>\n",
       "      <td>8.60</td>\n",
       "      <td>2018</td>\n",
       "    </tr>\n",
       "  </tbody>\n",
       "</table>\n",
       "</div>"
      ],
      "text/plain": [
       "                      Name  Country                      Region  \\\n",
       "0          Vermentino 2017    Italy                     Toscana   \n",
       "1        Ronco Broilo 2010    Italy  Colli Orientali del Friuli   \n",
       "2  Weisser Schiefer s 2017  Austria               Südburgenland   \n",
       "3          Chardonnay 2018  Germany                 Rheinhessen   \n",
       "4     Maganza Zibibbo 2018    Italy             Terre Siciliane   \n",
       "\n",
       "                    Winery  Rating  NumberOfRatings  Price  Year  \n",
       "0      Famiglia Castellani     3.8               25   5.65  2017  \n",
       "1  Conte d'Attimis Maniago     4.3               25  44.90  2010  \n",
       "2     Weinbau Uwe Schiefer     4.2               25  33.25  2017  \n",
       "3        Krämer - Straight     3.9               25   8.99  2018  \n",
       "4                Luna Gaia     3.9               25   8.60  2018  "
      ]
     },
     "execution_count": 7,
     "metadata": {},
     "output_type": "execute_result"
    }
   ],
   "source": [
    "df_white.head()"
   ]
  },
  {
   "cell_type": "code",
   "execution_count": 8,
   "id": "b6e26abe",
   "metadata": {},
   "outputs": [
    {
     "data": {
      "text/html": [
       "<div>\n",
       "<style scoped>\n",
       "    .dataframe tbody tr th:only-of-type {\n",
       "        vertical-align: middle;\n",
       "    }\n",
       "\n",
       "    .dataframe tbody tr th {\n",
       "        vertical-align: top;\n",
       "    }\n",
       "\n",
       "    .dataframe thead th {\n",
       "        text-align: right;\n",
       "    }\n",
       "</style>\n",
       "<table border=\"1\" class=\"dataframe\">\n",
       "  <thead>\n",
       "    <tr style=\"text-align: right;\">\n",
       "      <th></th>\n",
       "      <th>Name</th>\n",
       "      <th>Country</th>\n",
       "      <th>Region</th>\n",
       "      <th>Winery</th>\n",
       "      <th>Rating</th>\n",
       "      <th>NumberOfRatings</th>\n",
       "      <th>Price</th>\n",
       "      <th>Year</th>\n",
       "    </tr>\n",
       "  </thead>\n",
       "  <tbody>\n",
       "    <tr>\n",
       "      <th>0</th>\n",
       "      <td>Crémant de Loire Brut 2017</td>\n",
       "      <td>France</td>\n",
       "      <td>Crémant de Loire</td>\n",
       "      <td>Langlois-Chateau</td>\n",
       "      <td>3.9</td>\n",
       "      <td>25</td>\n",
       "      <td>14.41</td>\n",
       "      <td>2017</td>\n",
       "    </tr>\n",
       "    <tr>\n",
       "      <th>1</th>\n",
       "      <td>Vicar's Choice Sauvignon Blanc Bubbles 2019</td>\n",
       "      <td>New Zealand</td>\n",
       "      <td>Marlborough</td>\n",
       "      <td>Saint Clair</td>\n",
       "      <td>4.2</td>\n",
       "      <td>25</td>\n",
       "      <td>11.90</td>\n",
       "      <td>2019</td>\n",
       "    </tr>\n",
       "    <tr>\n",
       "      <th>2</th>\n",
       "      <td>Crémant de Limoux Brut N.V.</td>\n",
       "      <td>France</td>\n",
       "      <td>Crémant de Limoux</td>\n",
       "      <td>Prima Perla</td>\n",
       "      <td>3.5</td>\n",
       "      <td>25</td>\n",
       "      <td>14.32</td>\n",
       "      <td>N.V.</td>\n",
       "    </tr>\n",
       "    <tr>\n",
       "      <th>3</th>\n",
       "      <td>Athesis Brut 2016</td>\n",
       "      <td>Italy</td>\n",
       "      <td>Südtirol - Alto Adige</td>\n",
       "      <td>Kettmeir</td>\n",
       "      <td>4.0</td>\n",
       "      <td>25</td>\n",
       "      <td>21.50</td>\n",
       "      <td>2016</td>\n",
       "    </tr>\n",
       "    <tr>\n",
       "      <th>4</th>\n",
       "      <td>Blanc de Blancs Réserve Brut Nature N.V.</td>\n",
       "      <td>Germany</td>\n",
       "      <td>Pfalz</td>\n",
       "      <td>Eymann</td>\n",
       "      <td>3.9</td>\n",
       "      <td>25</td>\n",
       "      <td>31.18</td>\n",
       "      <td>N.V.</td>\n",
       "    </tr>\n",
       "  </tbody>\n",
       "</table>\n",
       "</div>"
      ],
      "text/plain": [
       "                                          Name      Country  \\\n",
       "0                   Crémant de Loire Brut 2017       France   \n",
       "1  Vicar's Choice Sauvignon Blanc Bubbles 2019  New Zealand   \n",
       "2                  Crémant de Limoux Brut N.V.       France   \n",
       "3                            Athesis Brut 2016        Italy   \n",
       "4     Blanc de Blancs Réserve Brut Nature N.V.      Germany   \n",
       "\n",
       "                  Region            Winery  Rating  NumberOfRatings  Price  \\\n",
       "0       Crémant de Loire  Langlois-Chateau     3.9               25  14.41   \n",
       "1            Marlborough       Saint Clair     4.2               25  11.90   \n",
       "2      Crémant de Limoux       Prima Perla     3.5               25  14.32   \n",
       "3  Südtirol - Alto Adige          Kettmeir     4.0               25  21.50   \n",
       "4                  Pfalz            Eymann     3.9               25  31.18   \n",
       "\n",
       "   Year  \n",
       "0  2017  \n",
       "1  2019  \n",
       "2  N.V.  \n",
       "3  2016  \n",
       "4  N.V.  "
      ]
     },
     "execution_count": 8,
     "metadata": {},
     "output_type": "execute_result"
    }
   ],
   "source": [
    "df_spark.head()"
   ]
  },
  {
   "cell_type": "markdown",
   "id": "b05dfbd7",
   "metadata": {},
   "source": [
    "Let's first add new column for each dataframe that will show the category name.\\\n",
    "and then we will join the dataframe as one and will work on that."
   ]
  },
  {
   "cell_type": "code",
   "execution_count": 9,
   "id": "334aac51",
   "metadata": {},
   "outputs": [],
   "source": [
    "df_red['Wine_Category'] = 'red'\n",
    "df_rose['Wine_Category'] = 'rose'\n",
    "df_white['Wine_Category'] = 'white'\n",
    "df_spark['Wine_Category'] = 'sparkling'\n"
   ]
  },
  {
   "cell_type": "markdown",
   "id": "ba477031",
   "metadata": {},
   "source": [
    "### Concatenating Data into 1 Dataframe"
   ]
  },
  {
   "cell_type": "code",
   "execution_count": 10,
   "id": "e455f6da",
   "metadata": {},
   "outputs": [],
   "source": [
    "df_wines = pd.concat([df_red, df_rose, df_white, df_spark])"
   ]
  },
  {
   "cell_type": "code",
   "execution_count": 11,
   "id": "bb5d5a90",
   "metadata": {},
   "outputs": [
    {
     "data": {
      "text/html": [
       "<div>\n",
       "<style scoped>\n",
       "    .dataframe tbody tr th:only-of-type {\n",
       "        vertical-align: middle;\n",
       "    }\n",
       "\n",
       "    .dataframe tbody tr th {\n",
       "        vertical-align: top;\n",
       "    }\n",
       "\n",
       "    .dataframe thead th {\n",
       "        text-align: right;\n",
       "    }\n",
       "</style>\n",
       "<table border=\"1\" class=\"dataframe\">\n",
       "  <thead>\n",
       "    <tr style=\"text-align: right;\">\n",
       "      <th></th>\n",
       "      <th>Name</th>\n",
       "      <th>Country</th>\n",
       "      <th>Region</th>\n",
       "      <th>Winery</th>\n",
       "      <th>Rating</th>\n",
       "      <th>NumberOfRatings</th>\n",
       "      <th>Price</th>\n",
       "      <th>Year</th>\n",
       "      <th>Wine_Category</th>\n",
       "    </tr>\n",
       "  </thead>\n",
       "  <tbody>\n",
       "    <tr>\n",
       "      <th>0</th>\n",
       "      <td>Pomerol 2011</td>\n",
       "      <td>France</td>\n",
       "      <td>Pomerol</td>\n",
       "      <td>Château La Providence</td>\n",
       "      <td>4.2</td>\n",
       "      <td>100</td>\n",
       "      <td>95.00</td>\n",
       "      <td>2011</td>\n",
       "      <td>red</td>\n",
       "    </tr>\n",
       "    <tr>\n",
       "      <th>1</th>\n",
       "      <td>Lirac 2017</td>\n",
       "      <td>France</td>\n",
       "      <td>Lirac</td>\n",
       "      <td>Château Mont-Redon</td>\n",
       "      <td>4.3</td>\n",
       "      <td>100</td>\n",
       "      <td>15.50</td>\n",
       "      <td>2017</td>\n",
       "      <td>red</td>\n",
       "    </tr>\n",
       "    <tr>\n",
       "      <th>2</th>\n",
       "      <td>Erta e China Rosso di Toscana 2015</td>\n",
       "      <td>Italy</td>\n",
       "      <td>Toscana</td>\n",
       "      <td>Renzo Masi</td>\n",
       "      <td>3.9</td>\n",
       "      <td>100</td>\n",
       "      <td>7.45</td>\n",
       "      <td>2015</td>\n",
       "      <td>red</td>\n",
       "    </tr>\n",
       "    <tr>\n",
       "      <th>3</th>\n",
       "      <td>Bardolino 2019</td>\n",
       "      <td>Italy</td>\n",
       "      <td>Bardolino</td>\n",
       "      <td>Cavalchina</td>\n",
       "      <td>3.5</td>\n",
       "      <td>100</td>\n",
       "      <td>8.72</td>\n",
       "      <td>2019</td>\n",
       "      <td>red</td>\n",
       "    </tr>\n",
       "    <tr>\n",
       "      <th>4</th>\n",
       "      <td>Ried Scheibner Pinot Noir 2016</td>\n",
       "      <td>Austria</td>\n",
       "      <td>Carnuntum</td>\n",
       "      <td>Markowitsch</td>\n",
       "      <td>3.9</td>\n",
       "      <td>100</td>\n",
       "      <td>29.15</td>\n",
       "      <td>2016</td>\n",
       "      <td>red</td>\n",
       "    </tr>\n",
       "  </tbody>\n",
       "</table>\n",
       "</div>"
      ],
      "text/plain": [
       "                                 Name  Country     Region  \\\n",
       "0                        Pomerol 2011   France    Pomerol   \n",
       "1                          Lirac 2017   France      Lirac   \n",
       "2  Erta e China Rosso di Toscana 2015    Italy    Toscana   \n",
       "3                      Bardolino 2019    Italy  Bardolino   \n",
       "4      Ried Scheibner Pinot Noir 2016  Austria  Carnuntum   \n",
       "\n",
       "                  Winery  Rating  NumberOfRatings  Price  Year Wine_Category  \n",
       "0  Château La Providence     4.2              100  95.00  2011           red  \n",
       "1     Château Mont-Redon     4.3              100  15.50  2017           red  \n",
       "2             Renzo Masi     3.9              100   7.45  2015           red  \n",
       "3             Cavalchina     3.5              100   8.72  2019           red  \n",
       "4            Markowitsch     3.9              100  29.15  2016           red  "
      ]
     },
     "execution_count": 11,
     "metadata": {},
     "output_type": "execute_result"
    }
   ],
   "source": [
    "df_wines.head()"
   ]
  },
  {
   "cell_type": "code",
   "execution_count": 12,
   "id": "7e1474af",
   "metadata": {},
   "outputs": [
    {
     "name": "stdout",
     "output_type": "stream",
     "text": [
      "<class 'pandas.core.frame.DataFrame'>\n",
      "Int64Index: 13834 entries, 0 to 1006\n",
      "Data columns (total 9 columns):\n",
      " #   Column           Non-Null Count  Dtype  \n",
      "---  ------           --------------  -----  \n",
      " 0   Name             13834 non-null  object \n",
      " 1   Country          13834 non-null  object \n",
      " 2   Region           13834 non-null  object \n",
      " 3   Winery           13834 non-null  object \n",
      " 4   Rating           13834 non-null  float64\n",
      " 5   NumberOfRatings  13834 non-null  int64  \n",
      " 6   Price            13834 non-null  float64\n",
      " 7   Year             13834 non-null  object \n",
      " 8   Wine_Category    13834 non-null  object \n",
      "dtypes: float64(2), int64(1), object(6)\n",
      "memory usage: 1.1+ MB\n"
     ]
    }
   ],
   "source": [
    "df_wines.info()"
   ]
  },
  {
   "cell_type": "code",
   "execution_count": null,
   "id": "888399f9",
   "metadata": {},
   "outputs": [],
   "source": []
  },
  {
   "cell_type": "markdown",
   "id": "eeb4a3fa",
   "metadata": {},
   "source": [
    "There are some wines which are Non.Vintage, which are the blends from any 2 years so let's give them any number like 2050."
   ]
  },
  {
   "cell_type": "code",
   "execution_count": 13,
   "id": "8e5124cf",
   "metadata": {},
   "outputs": [],
   "source": [
    "df_wines['Year'] = df_wines['Year'].replace('N.V.', 2050) \n",
    "df_wines['Year'] = pd.to_numeric(df_wines['Year'])\n"
   ]
  },
  {
   "cell_type": "code",
   "execution_count": 14,
   "id": "cd3bf753",
   "metadata": {},
   "outputs": [
    {
     "data": {
      "text/html": [
       "<div>\n",
       "<style scoped>\n",
       "    .dataframe tbody tr th:only-of-type {\n",
       "        vertical-align: middle;\n",
       "    }\n",
       "\n",
       "    .dataframe tbody tr th {\n",
       "        vertical-align: top;\n",
       "    }\n",
       "\n",
       "    .dataframe thead th {\n",
       "        text-align: right;\n",
       "    }\n",
       "</style>\n",
       "<table border=\"1\" class=\"dataframe\">\n",
       "  <thead>\n",
       "    <tr style=\"text-align: right;\">\n",
       "      <th></th>\n",
       "      <th>Rating</th>\n",
       "      <th>NumberOfRatings</th>\n",
       "      <th>Price</th>\n",
       "      <th>Year</th>\n",
       "    </tr>\n",
       "  </thead>\n",
       "  <tbody>\n",
       "    <tr>\n",
       "      <th>count</th>\n",
       "      <td>13834.000000</td>\n",
       "      <td>13834.000000</td>\n",
       "      <td>13834.000000</td>\n",
       "      <td>13834.000000</td>\n",
       "    </tr>\n",
       "    <tr>\n",
       "      <th>mean</th>\n",
       "      <td>3.865664</td>\n",
       "      <td>428.322466</td>\n",
       "      <td>33.024850</td>\n",
       "      <td>2017.385499</td>\n",
       "    </tr>\n",
       "    <tr>\n",
       "      <th>std</th>\n",
       "      <td>0.296427</td>\n",
       "      <td>1838.413812</td>\n",
       "      <td>70.899893</td>\n",
       "      <td>8.403591</td>\n",
       "    </tr>\n",
       "    <tr>\n",
       "      <th>min</th>\n",
       "      <td>2.200000</td>\n",
       "      <td>25.000000</td>\n",
       "      <td>3.150000</td>\n",
       "      <td>1961.000000</td>\n",
       "    </tr>\n",
       "    <tr>\n",
       "      <th>25%</th>\n",
       "      <td>3.700000</td>\n",
       "      <td>56.000000</td>\n",
       "      <td>9.902500</td>\n",
       "      <td>2015.000000</td>\n",
       "    </tr>\n",
       "    <tr>\n",
       "      <th>50%</th>\n",
       "      <td>3.900000</td>\n",
       "      <td>129.000000</td>\n",
       "      <td>15.950000</td>\n",
       "      <td>2016.000000</td>\n",
       "    </tr>\n",
       "    <tr>\n",
       "      <th>75%</th>\n",
       "      <td>4.100000</td>\n",
       "      <td>336.000000</td>\n",
       "      <td>32.500000</td>\n",
       "      <td>2018.000000</td>\n",
       "    </tr>\n",
       "    <tr>\n",
       "      <th>max</th>\n",
       "      <td>4.900000</td>\n",
       "      <td>94287.000000</td>\n",
       "      <td>3410.790000</td>\n",
       "      <td>2050.000000</td>\n",
       "    </tr>\n",
       "  </tbody>\n",
       "</table>\n",
       "</div>"
      ],
      "text/plain": [
       "             Rating  NumberOfRatings         Price          Year\n",
       "count  13834.000000     13834.000000  13834.000000  13834.000000\n",
       "mean       3.865664       428.322466     33.024850   2017.385499\n",
       "std        0.296427      1838.413812     70.899893      8.403591\n",
       "min        2.200000        25.000000      3.150000   1961.000000\n",
       "25%        3.700000        56.000000      9.902500   2015.000000\n",
       "50%        3.900000       129.000000     15.950000   2016.000000\n",
       "75%        4.100000       336.000000     32.500000   2018.000000\n",
       "max        4.900000     94287.000000   3410.790000   2050.000000"
      ]
     },
     "execution_count": 14,
     "metadata": {},
     "output_type": "execute_result"
    }
   ],
   "source": [
    "df_wines.describe()"
   ]
  },
  {
   "cell_type": "markdown",
   "id": "e9be0250",
   "metadata": {},
   "source": [
    "## Exploratory Data Analysis"
   ]
  },
  {
   "cell_type": "code",
   "execution_count": 15,
   "id": "13657f3c",
   "metadata": {},
   "outputs": [
    {
     "data": {
      "text/html": [
       "<div>\n",
       "<style scoped>\n",
       "    .dataframe tbody tr th:only-of-type {\n",
       "        vertical-align: middle;\n",
       "    }\n",
       "\n",
       "    .dataframe tbody tr th {\n",
       "        vertical-align: top;\n",
       "    }\n",
       "\n",
       "    .dataframe thead th {\n",
       "        text-align: right;\n",
       "    }\n",
       "</style>\n",
       "<table border=\"1\" class=\"dataframe\">\n",
       "  <thead>\n",
       "    <tr style=\"text-align: right;\">\n",
       "      <th></th>\n",
       "      <th>Name</th>\n",
       "      <th>Country</th>\n",
       "      <th>Region</th>\n",
       "      <th>Winery</th>\n",
       "      <th>Rating</th>\n",
       "      <th>NumberOfRatings</th>\n",
       "      <th>Price</th>\n",
       "      <th>Year</th>\n",
       "      <th>Wine_Category</th>\n",
       "    </tr>\n",
       "  </thead>\n",
       "  <tbody>\n",
       "    <tr>\n",
       "      <th>0</th>\n",
       "      <td>Pomerol 2011</td>\n",
       "      <td>France</td>\n",
       "      <td>Pomerol</td>\n",
       "      <td>Château La Providence</td>\n",
       "      <td>4.2</td>\n",
       "      <td>100</td>\n",
       "      <td>95.00</td>\n",
       "      <td>2011</td>\n",
       "      <td>red</td>\n",
       "    </tr>\n",
       "    <tr>\n",
       "      <th>1</th>\n",
       "      <td>Lirac 2017</td>\n",
       "      <td>France</td>\n",
       "      <td>Lirac</td>\n",
       "      <td>Château Mont-Redon</td>\n",
       "      <td>4.3</td>\n",
       "      <td>100</td>\n",
       "      <td>15.50</td>\n",
       "      <td>2017</td>\n",
       "      <td>red</td>\n",
       "    </tr>\n",
       "    <tr>\n",
       "      <th>2</th>\n",
       "      <td>Erta e China Rosso di Toscana 2015</td>\n",
       "      <td>Italy</td>\n",
       "      <td>Toscana</td>\n",
       "      <td>Renzo Masi</td>\n",
       "      <td>3.9</td>\n",
       "      <td>100</td>\n",
       "      <td>7.45</td>\n",
       "      <td>2015</td>\n",
       "      <td>red</td>\n",
       "    </tr>\n",
       "  </tbody>\n",
       "</table>\n",
       "</div>"
      ],
      "text/plain": [
       "                                 Name Country   Region                 Winery  \\\n",
       "0                        Pomerol 2011  France  Pomerol  Château La Providence   \n",
       "1                          Lirac 2017  France    Lirac     Château Mont-Redon   \n",
       "2  Erta e China Rosso di Toscana 2015   Italy  Toscana             Renzo Masi   \n",
       "\n",
       "   Rating  NumberOfRatings  Price  Year Wine_Category  \n",
       "0     4.2              100  95.00  2011           red  \n",
       "1     4.3              100  15.50  2017           red  \n",
       "2     3.9              100   7.45  2015           red  "
      ]
     },
     "execution_count": 15,
     "metadata": {},
     "output_type": "execute_result"
    }
   ],
   "source": [
    "df_wines.head(3)"
   ]
  },
  {
   "cell_type": "code",
   "execution_count": 16,
   "id": "d81cd743",
   "metadata": {},
   "outputs": [],
   "source": [
    "top_countries = df_wines['Country'].value_counts()[:10]"
   ]
  },
  {
   "cell_type": "code",
   "execution_count": 17,
   "id": "19109bec",
   "metadata": {},
   "outputs": [
    {
     "data": {
      "image/png": "[encoded data removed]",
      "text/plain": [
       "<Figure size 600x400 with 1 Axes>"
      ]
     },
     "metadata": {},
     "output_type": "display_data"
    }
   ],
   "source": [
    "plt.figure(figsize=(6,4))\n",
    "ax = sns.countplot(x='Country', data=df_wines[df_wines['Country'].isin(top_countries.index.values)], order=top_countries.index)\n",
    "ax.set_title(\"Top 10 Countries with highest Volume\", fontsize=15)\n",
    "ax.set_xlabel(\"Country\", fontsize=12)\n",
    "ax.set_ylabel(\"Volume\", fontsize=12)\n",
    "ax.set_xticklabels(ax.get_xticklabels(),rotation=45)\n",
    "plt.show()"
   ]
  },
  {
   "cell_type": "code",
   "execution_count": 18,
   "id": "272f0c11",
   "metadata": {},
   "outputs": [],
   "source": [
    "top_regions = df_wines['Region'].value_counts()[:10]"
   ]
  },
  {
   "cell_type": "code",
   "execution_count": 19,
   "id": "f053ddb5",
   "metadata": {},
   "outputs": [
    {
     "data": {
      "image/png": "[encoded data removed]",
      "text/plain": [
       "<Figure size 600x400 with 1 Axes>"
      ]
     },
     "metadata": {},
     "output_type": "display_data"
    }
   ],
   "source": [
    "plt.figure(figsize=(6,4))\n",
    "ax = sns.countplot(x='Region', data=df_wines[df_wines['Region'].isin(top_regions.index.values)], order=top_regions.index)\n",
    "ax.set_title(\"Top 10 Regions with highest Volume\", fontsize=15)\n",
    "ax.set_xlabel(\"Region\", fontsize=12)\n",
    "ax.set_ylabel(\"Volume\", fontsize=12)\n",
    "ax.set_xticklabels(ax.get_xticklabels(),rotation=90)\n",
    "plt.show()"
   ]
  },
  {
   "cell_type": "code",
   "execution_count": null,
   "id": "d0ce63d4",
   "metadata": {},
   "outputs": [],
   "source": []
  },
  {
   "cell_type": "code",
   "execution_count": 20,
   "id": "27fe4845",
   "metadata": {},
   "outputs": [],
   "source": [
    "top_years = df_wines['Year'].value_counts()[:10]"
   ]
  },
  {
   "cell_type": "code",
   "execution_count": 21,
   "id": "5a80efcf",
   "metadata": {},
   "outputs": [
    {
     "data": {
      "image/png": "[encoded data removed]",
      "text/plain": [
       "<Figure size 600x400 with 1 Axes>"
      ]
     },
     "metadata": {},
     "output_type": "display_data"
    }
   ],
   "source": [
    "plt.figure(figsize=(6,4))\n",
    "ax = sns.countplot(x='Year', data=df_wines[df_wines['Year'].isin(top_years.index.values)], order=top_years.index)\n",
    "ax.set_title(\"Top 10 Years with Volume\", fontsize=15)\n",
    "ax.set_xlabel(\"Year\", fontsize=12)\n",
    "ax.set_ylabel(\"Volume\", fontsize=12)\n",
    "ax.set_xticklabels(ax.get_xticklabels(),rotation=45)\n",
    "plt.show()"
   ]
  },
  {
   "cell_type": "markdown",
   "id": "c69a8bdb",
   "metadata": {},
   "source": [
    "This shows that with each increasing year the volume also increases."
   ]
  },
  {
   "cell_type": "code",
   "execution_count": null,
   "id": "90e13115",
   "metadata": {},
   "outputs": [],
   "source": []
  },
  {
   "cell_type": "code",
   "execution_count": 22,
   "id": "0df7c467",
   "metadata": {},
   "outputs": [],
   "source": [
    "top_categories = df_wines['Wine_Category'].value_counts()"
   ]
  },
  {
   "cell_type": "code",
   "execution_count": 23,
   "id": "66717067",
   "metadata": {},
   "outputs": [
    {
     "data": {
      "image/png": "[encoded data removed]",
      "text/plain": [
       "<Figure size 600x400 with 1 Axes>"
      ]
     },
     "metadata": {},
     "output_type": "display_data"
    }
   ],
   "source": [
    "plt.figure(figsize=(6,4))\n",
    "ax = sns.countplot(x='Wine_Category', data=df_wines[df_wines['Wine_Category'].isin(top_categories.index.values)], order=top_categories.index)\n",
    "ax.set_title(\"Top Categories\", fontsize=15)\n",
    "ax.set_xlabel(\"Category\", fontsize=12)\n",
    "ax.set_ylabel(\"Volume\", fontsize=12)\n",
    "ax.set_xticklabels(ax.get_xticklabels(),rotation=45)\n",
    "plt.show()"
   ]
  },
  {
   "cell_type": "markdown",
   "id": "98c82ff8",
   "metadata": {},
   "source": [
    "The mostly used Wine is Red."
   ]
  },
  {
   "cell_type": "code",
   "execution_count": 24,
   "id": "e480f081",
   "metadata": {},
   "outputs": [
    {
     "data": {
      "text/html": [
       "<div>\n",
       "<style scoped>\n",
       "    .dataframe tbody tr th:only-of-type {\n",
       "        vertical-align: middle;\n",
       "    }\n",
       "\n",
       "    .dataframe tbody tr th {\n",
       "        vertical-align: top;\n",
       "    }\n",
       "\n",
       "    .dataframe thead th {\n",
       "        text-align: right;\n",
       "    }\n",
       "</style>\n",
       "<table border=\"1\" class=\"dataframe\">\n",
       "  <thead>\n",
       "    <tr style=\"text-align: right;\">\n",
       "      <th></th>\n",
       "      <th>Name</th>\n",
       "      <th>Country</th>\n",
       "      <th>Region</th>\n",
       "      <th>Winery</th>\n",
       "      <th>Rating</th>\n",
       "      <th>NumberOfRatings</th>\n",
       "      <th>Price</th>\n",
       "      <th>Year</th>\n",
       "      <th>Wine_Category</th>\n",
       "    </tr>\n",
       "  </thead>\n",
       "  <tbody>\n",
       "    <tr>\n",
       "      <th>0</th>\n",
       "      <td>Pomerol 2011</td>\n",
       "      <td>France</td>\n",
       "      <td>Pomerol</td>\n",
       "      <td>Château La Providence</td>\n",
       "      <td>4.2</td>\n",
       "      <td>100</td>\n",
       "      <td>95.0</td>\n",
       "      <td>2011</td>\n",
       "      <td>red</td>\n",
       "    </tr>\n",
       "    <tr>\n",
       "      <th>1</th>\n",
       "      <td>Lirac 2017</td>\n",
       "      <td>France</td>\n",
       "      <td>Lirac</td>\n",
       "      <td>Château Mont-Redon</td>\n",
       "      <td>4.3</td>\n",
       "      <td>100</td>\n",
       "      <td>15.5</td>\n",
       "      <td>2017</td>\n",
       "      <td>red</td>\n",
       "    </tr>\n",
       "  </tbody>\n",
       "</table>\n",
       "</div>"
      ],
      "text/plain": [
       "           Name Country   Region                 Winery  Rating  \\\n",
       "0  Pomerol 2011  France  Pomerol  Château La Providence     4.2   \n",
       "1    Lirac 2017  France    Lirac     Château Mont-Redon     4.3   \n",
       "\n",
       "   NumberOfRatings  Price  Year Wine_Category  \n",
       "0              100   95.0  2011           red  \n",
       "1              100   15.5  2017           red  "
      ]
     },
     "execution_count": 24,
     "metadata": {},
     "output_type": "execute_result"
    }
   ],
   "source": [
    "df_wines.head(2)"
   ]
  },
  {
   "cell_type": "code",
   "execution_count": 25,
   "id": "bf02b1b6",
   "metadata": {},
   "outputs": [
    {
     "data": {
      "image/png": "[encoded data removed]",
      "text/plain": [
       "<Figure size 800x300 with 1 Axes>"
      ]
     },
     "metadata": {},
     "output_type": "display_data"
    }
   ],
   "source": [
    "plt.figure(figsize=(8,3))\n",
    "ax = sns.histplot(x='Rating', data=df_wines, color='maroon', kde=True)\n",
    "ax.set_title(\"Rating Distribution of Wines\", fontsize=15)\n",
    "ax.set_xlabel(\"Rating\", fontsize=12)\n",
    "ax.set_ylabel(\"Count\", fontsize=12)\n",
    "plt.show()"
   ]
  },
  {
   "cell_type": "code",
   "execution_count": null,
   "id": "6d552a36",
   "metadata": {},
   "outputs": [],
   "source": []
  },
  {
   "cell_type": "code",
   "execution_count": 26,
   "id": "1eded1bf",
   "metadata": {},
   "outputs": [
    {
     "data": {
      "image/png": "[encoded data removed]",
      "text/plain": [
       "<Figure size 800x300 with 1 Axes>"
      ]
     },
     "metadata": {},
     "output_type": "display_data"
    }
   ],
   "source": [
    "plt.figure(figsize=(8,3))\n",
    "ax = sns.histplot(np.log(df_wines['NumberOfRatings']), color='purple', kde=True)\n",
    "ax.set_title(\"No of Ratings Distribution of Wines\", fontsize=15)\n",
    "ax.set_xlabel(\"Number of Ratings\", fontsize=12)\n",
    "ax.set_ylabel(\"Count\", fontsize=12)\n",
    "plt.show()"
   ]
  },
  {
   "cell_type": "code",
   "execution_count": null,
   "id": "09ed8d0e",
   "metadata": {},
   "outputs": [],
   "source": []
  },
  {
   "cell_type": "markdown",
   "id": "1d4ada26",
   "metadata": {},
   "source": [
    "## Which country, region and winery has the highest rating and price?"
   ]
  },
  {
   "cell_type": "markdown",
   "id": "f7810f33",
   "metadata": {},
   "source": [
    "### Highest Ratings"
   ]
  },
  {
   "cell_type": "markdown",
   "id": "dca2b7ee",
   "metadata": {},
   "source": [
    "#### Top 5 Countries with Highest Mean Rating"
   ]
  },
  {
   "cell_type": "code",
   "execution_count": 27,
   "id": "c6379f57",
   "metadata": {},
   "outputs": [
    {
     "data": {
      "text/html": [
       "<div>\n",
       "<style scoped>\n",
       "    .dataframe tbody tr th:only-of-type {\n",
       "        vertical-align: middle;\n",
       "    }\n",
       "\n",
       "    .dataframe tbody tr th {\n",
       "        vertical-align: top;\n",
       "    }\n",
       "\n",
       "    .dataframe thead th {\n",
       "        text-align: right;\n",
       "    }\n",
       "</style>\n",
       "<table border=\"1\" class=\"dataframe\">\n",
       "  <thead>\n",
       "    <tr style=\"text-align: right;\">\n",
       "      <th></th>\n",
       "      <th>Country</th>\n",
       "      <th>Rating</th>\n",
       "    </tr>\n",
       "  </thead>\n",
       "  <tbody>\n",
       "    <tr>\n",
       "      <th>0</th>\n",
       "      <td>Moldova</td>\n",
       "      <td>4.175000</td>\n",
       "    </tr>\n",
       "    <tr>\n",
       "      <th>1</th>\n",
       "      <td>Lebanon</td>\n",
       "      <td>4.137500</td>\n",
       "    </tr>\n",
       "    <tr>\n",
       "      <th>2</th>\n",
       "      <td>Croatia</td>\n",
       "      <td>4.083333</td>\n",
       "    </tr>\n",
       "    <tr>\n",
       "      <th>3</th>\n",
       "      <td>Czech Republic</td>\n",
       "      <td>4.050000</td>\n",
       "    </tr>\n",
       "    <tr>\n",
       "      <th>4</th>\n",
       "      <td>United Kingdom</td>\n",
       "      <td>4.033333</td>\n",
       "    </tr>\n",
       "  </tbody>\n",
       "</table>\n",
       "</div>"
      ],
      "text/plain": [
       "          Country    Rating\n",
       "0         Moldova  4.175000\n",
       "1         Lebanon  4.137500\n",
       "2         Croatia  4.083333\n",
       "3  Czech Republic  4.050000\n",
       "4  United Kingdom  4.033333"
      ]
     },
     "execution_count": 27,
     "metadata": {},
     "output_type": "execute_result"
    }
   ],
   "source": [
    "df_wines.groupby(['Country'])['Rating'].mean().sort_values(ascending=False)[:5].reset_index()"
   ]
  },
  {
   "cell_type": "markdown",
   "id": "366f674d",
   "metadata": {},
   "source": [
    "#### Top 5 Regions with Highest Mean Rating"
   ]
  },
  {
   "cell_type": "code",
   "execution_count": 28,
   "id": "db68898b",
   "metadata": {},
   "outputs": [
    {
     "data": {
      "text/html": [
       "<div>\n",
       "<style scoped>\n",
       "    .dataframe tbody tr th:only-of-type {\n",
       "        vertical-align: middle;\n",
       "    }\n",
       "\n",
       "    .dataframe tbody tr th {\n",
       "        vertical-align: top;\n",
       "    }\n",
       "\n",
       "    .dataframe thead th {\n",
       "        text-align: right;\n",
       "    }\n",
       "</style>\n",
       "<table border=\"1\" class=\"dataframe\">\n",
       "  <thead>\n",
       "    <tr style=\"text-align: right;\">\n",
       "      <th></th>\n",
       "      <th>Region</th>\n",
       "      <th>Rating</th>\n",
       "    </tr>\n",
       "  </thead>\n",
       "  <tbody>\n",
       "    <tr>\n",
       "      <th>0</th>\n",
       "      <td>Montrachet Grand Cru</td>\n",
       "      <td>4.900</td>\n",
       "    </tr>\n",
       "    <tr>\n",
       "      <th>1</th>\n",
       "      <td>Bolgheri Sassicaia</td>\n",
       "      <td>4.625</td>\n",
       "    </tr>\n",
       "    <tr>\n",
       "      <th>2</th>\n",
       "      <td>Bâtard-Montrachet Grand Cru</td>\n",
       "      <td>4.600</td>\n",
       "    </tr>\n",
       "    <tr>\n",
       "      <th>3</th>\n",
       "      <td>Stags Leap District</td>\n",
       "      <td>4.550</td>\n",
       "    </tr>\n",
       "    <tr>\n",
       "      <th>4</th>\n",
       "      <td>San Carlos</td>\n",
       "      <td>4.500</td>\n",
       "    </tr>\n",
       "  </tbody>\n",
       "</table>\n",
       "</div>"
      ],
      "text/plain": [
       "                        Region  Rating\n",
       "0         Montrachet Grand Cru   4.900\n",
       "1           Bolgheri Sassicaia   4.625\n",
       "2  Bâtard-Montrachet Grand Cru   4.600\n",
       "3          Stags Leap District   4.550\n",
       "4                   San Carlos   4.500"
      ]
     },
     "execution_count": 28,
     "metadata": {},
     "output_type": "execute_result"
    }
   ],
   "source": [
    "df_wines.groupby(['Region'])['Rating'].mean().sort_values(ascending=False)[:5].reset_index()"
   ]
  },
  {
   "cell_type": "markdown",
   "id": "a9bf80dd",
   "metadata": {},
   "source": [
    "#### Top 5 Wineries with Highest Mean Rating"
   ]
  },
  {
   "cell_type": "code",
   "execution_count": 29,
   "id": "2e6f63e9",
   "metadata": {},
   "outputs": [
    {
     "data": {
      "text/html": [
       "<div>\n",
       "<style scoped>\n",
       "    .dataframe tbody tr th:only-of-type {\n",
       "        vertical-align: middle;\n",
       "    }\n",
       "\n",
       "    .dataframe tbody tr th {\n",
       "        vertical-align: top;\n",
       "    }\n",
       "\n",
       "    .dataframe thead th {\n",
       "        text-align: right;\n",
       "    }\n",
       "</style>\n",
       "<table border=\"1\" class=\"dataframe\">\n",
       "  <thead>\n",
       "    <tr style=\"text-align: right;\">\n",
       "      <th></th>\n",
       "      <th>Winery</th>\n",
       "      <th>Rating</th>\n",
       "    </tr>\n",
       "  </thead>\n",
       "  <tbody>\n",
       "    <tr>\n",
       "      <th>0</th>\n",
       "      <td>Masseto</td>\n",
       "      <td>4.733333</td>\n",
       "    </tr>\n",
       "    <tr>\n",
       "      <th>1</th>\n",
       "      <td>Dal Forno Romano</td>\n",
       "      <td>4.700000</td>\n",
       "    </tr>\n",
       "    <tr>\n",
       "      <th>2</th>\n",
       "      <td>Pétrus</td>\n",
       "      <td>4.700000</td>\n",
       "    </tr>\n",
       "    <tr>\n",
       "      <th>3</th>\n",
       "      <td>Promontory</td>\n",
       "      <td>4.700000</td>\n",
       "    </tr>\n",
       "    <tr>\n",
       "      <th>4</th>\n",
       "      <td>Giacomo Conterno</td>\n",
       "      <td>4.700000</td>\n",
       "    </tr>\n",
       "  </tbody>\n",
       "</table>\n",
       "</div>"
      ],
      "text/plain": [
       "             Winery    Rating\n",
       "0           Masseto  4.733333\n",
       "1  Dal Forno Romano  4.700000\n",
       "2            Pétrus  4.700000\n",
       "3        Promontory  4.700000\n",
       "4  Giacomo Conterno  4.700000"
      ]
     },
     "execution_count": 29,
     "metadata": {},
     "output_type": "execute_result"
    }
   ],
   "source": [
    "df_wines.groupby(['Winery'])['Rating'].mean().sort_values(ascending=False)[:5].reset_index()"
   ]
  },
  {
   "cell_type": "markdown",
   "id": "f8d18d74",
   "metadata": {},
   "source": [
    "### Highest Prices"
   ]
  },
  {
   "cell_type": "markdown",
   "id": "6d13b39b",
   "metadata": {},
   "source": [
    "#### Top 5 Countries with Highest Mean Price"
   ]
  },
  {
   "cell_type": "code",
   "execution_count": 30,
   "id": "33c9ff1b",
   "metadata": {},
   "outputs": [
    {
     "data": {
      "text/html": [
       "<div>\n",
       "<style scoped>\n",
       "    .dataframe tbody tr th:only-of-type {\n",
       "        vertical-align: middle;\n",
       "    }\n",
       "\n",
       "    .dataframe tbody tr th {\n",
       "        vertical-align: top;\n",
       "    }\n",
       "\n",
       "    .dataframe thead th {\n",
       "        text-align: right;\n",
       "    }\n",
       "</style>\n",
       "<table border=\"1\" class=\"dataframe\">\n",
       "  <thead>\n",
       "    <tr style=\"text-align: right;\">\n",
       "      <th></th>\n",
       "      <th>Country</th>\n",
       "      <th>Price</th>\n",
       "    </tr>\n",
       "  </thead>\n",
       "  <tbody>\n",
       "    <tr>\n",
       "      <th>0</th>\n",
       "      <td>United Kingdom</td>\n",
       "      <td>57.770000</td>\n",
       "    </tr>\n",
       "    <tr>\n",
       "      <th>1</th>\n",
       "      <td>France</td>\n",
       "      <td>55.539331</td>\n",
       "    </tr>\n",
       "    <tr>\n",
       "      <th>2</th>\n",
       "      <td>United States</td>\n",
       "      <td>43.719170</td>\n",
       "    </tr>\n",
       "    <tr>\n",
       "      <th>3</th>\n",
       "      <td>Lebanon</td>\n",
       "      <td>36.887500</td>\n",
       "    </tr>\n",
       "    <tr>\n",
       "      <th>4</th>\n",
       "      <td>Australia</td>\n",
       "      <td>36.781132</td>\n",
       "    </tr>\n",
       "  </tbody>\n",
       "</table>\n",
       "</div>"
      ],
      "text/plain": [
       "          Country      Price\n",
       "0  United Kingdom  57.770000\n",
       "1          France  55.539331\n",
       "2   United States  43.719170\n",
       "3         Lebanon  36.887500\n",
       "4       Australia  36.781132"
      ]
     },
     "execution_count": 30,
     "metadata": {},
     "output_type": "execute_result"
    }
   ],
   "source": [
    "df_wines.groupby(['Country'])['Price'].mean().sort_values(ascending=False)[:5].reset_index()"
   ]
  },
  {
   "cell_type": "markdown",
   "id": "66346f2b",
   "metadata": {},
   "source": [
    "#### Top 5 Regions with Highest Mean Price"
   ]
  },
  {
   "cell_type": "code",
   "execution_count": 31,
   "id": "5801c77f",
   "metadata": {},
   "outputs": [
    {
     "data": {
      "text/html": [
       "<div>\n",
       "<style scoped>\n",
       "    .dataframe tbody tr th:only-of-type {\n",
       "        vertical-align: middle;\n",
       "    }\n",
       "\n",
       "    .dataframe tbody tr th {\n",
       "        vertical-align: top;\n",
       "    }\n",
       "\n",
       "    .dataframe thead th {\n",
       "        text-align: right;\n",
       "    }\n",
       "</style>\n",
       "<table border=\"1\" class=\"dataframe\">\n",
       "  <thead>\n",
       "    <tr style=\"text-align: right;\">\n",
       "      <th></th>\n",
       "      <th>Region</th>\n",
       "      <th>Price</th>\n",
       "    </tr>\n",
       "  </thead>\n",
       "  <tbody>\n",
       "    <tr>\n",
       "      <th>0</th>\n",
       "      <td>Musigny Grand Cru</td>\n",
       "      <td>995.0000</td>\n",
       "    </tr>\n",
       "    <tr>\n",
       "      <th>1</th>\n",
       "      <td>Montrachet Grand Cru</td>\n",
       "      <td>681.3700</td>\n",
       "    </tr>\n",
       "    <tr>\n",
       "      <th>2</th>\n",
       "      <td>Bâtard-Montrachet Grand Cru</td>\n",
       "      <td>520.0000</td>\n",
       "    </tr>\n",
       "    <tr>\n",
       "      <th>3</th>\n",
       "      <td>Bolgheri Sassicaia</td>\n",
       "      <td>400.0725</td>\n",
       "    </tr>\n",
       "    <tr>\n",
       "      <th>4</th>\n",
       "      <td>Bonnes-Mares Grand Cru</td>\n",
       "      <td>291.4600</td>\n",
       "    </tr>\n",
       "  </tbody>\n",
       "</table>\n",
       "</div>"
      ],
      "text/plain": [
       "                        Region     Price\n",
       "0            Musigny Grand Cru  995.0000\n",
       "1         Montrachet Grand Cru  681.3700\n",
       "2  Bâtard-Montrachet Grand Cru  520.0000\n",
       "3           Bolgheri Sassicaia  400.0725\n",
       "4       Bonnes-Mares Grand Cru  291.4600"
      ]
     },
     "execution_count": 31,
     "metadata": {},
     "output_type": "execute_result"
    }
   ],
   "source": [
    "df_wines.groupby(['Region'])['Price'].mean().sort_values(ascending=False)[:5].reset_index()"
   ]
  },
  {
   "cell_type": "markdown",
   "id": "33610524",
   "metadata": {},
   "source": [
    "#### Top 5 Wineries with Highest Mean Price"
   ]
  },
  {
   "cell_type": "code",
   "execution_count": 32,
   "id": "90af9229",
   "metadata": {},
   "outputs": [
    {
     "data": {
      "text/html": [
       "<div>\n",
       "<style scoped>\n",
       "    .dataframe tbody tr th:only-of-type {\n",
       "        vertical-align: middle;\n",
       "    }\n",
       "\n",
       "    .dataframe tbody tr th {\n",
       "        vertical-align: top;\n",
       "    }\n",
       "\n",
       "    .dataframe thead th {\n",
       "        text-align: right;\n",
       "    }\n",
       "</style>\n",
       "<table border=\"1\" class=\"dataframe\">\n",
       "  <thead>\n",
       "    <tr style=\"text-align: right;\">\n",
       "      <th></th>\n",
       "      <th>Winery</th>\n",
       "      <th>Price</th>\n",
       "    </tr>\n",
       "  </thead>\n",
       "  <tbody>\n",
       "    <tr>\n",
       "      <th>0</th>\n",
       "      <td>Pétrus</td>\n",
       "      <td>3410.790</td>\n",
       "    </tr>\n",
       "    <tr>\n",
       "      <th>1</th>\n",
       "      <td>Château Ausone</td>\n",
       "      <td>1087.540</td>\n",
       "    </tr>\n",
       "    <tr>\n",
       "      <th>2</th>\n",
       "      <td>Domaine Comte Georges de Vogüé</td>\n",
       "      <td>995.000</td>\n",
       "    </tr>\n",
       "    <tr>\n",
       "      <th>3</th>\n",
       "      <td>Masseto</td>\n",
       "      <td>963.490</td>\n",
       "    </tr>\n",
       "    <tr>\n",
       "      <th>4</th>\n",
       "      <td>Château Lafite Rothschild</td>\n",
       "      <td>849.175</td>\n",
       "    </tr>\n",
       "  </tbody>\n",
       "</table>\n",
       "</div>"
      ],
      "text/plain": [
       "                           Winery     Price\n",
       "0                          Pétrus  3410.790\n",
       "1                  Château Ausone  1087.540\n",
       "2  Domaine Comte Georges de Vogüé   995.000\n",
       "3                         Masseto   963.490\n",
       "4       Château Lafite Rothschild   849.175"
      ]
     },
     "execution_count": 32,
     "metadata": {},
     "output_type": "execute_result"
    }
   ],
   "source": [
    "df_wines.groupby(['Winery'])['Price'].mean().sort_values(ascending=False)[:5].reset_index()"
   ]
  },
  {
   "cell_type": "code",
   "execution_count": null,
   "id": "eb382bdd",
   "metadata": {},
   "outputs": [],
   "source": []
  },
  {
   "cell_type": "markdown",
   "id": "c08b5bb4",
   "metadata": {},
   "source": [
    "## Which country, region and winery has the lowest rating and price?"
   ]
  },
  {
   "cell_type": "markdown",
   "id": "bf7b4f44",
   "metadata": {},
   "source": [
    "### Lowest Rating"
   ]
  },
  {
   "cell_type": "markdown",
   "id": "f811f575",
   "metadata": {},
   "source": [
    "#### Top 5 Countries with Lowest Ratings"
   ]
  },
  {
   "cell_type": "code",
   "execution_count": 33,
   "id": "de3a4f1d",
   "metadata": {},
   "outputs": [
    {
     "data": {
      "text/html": [
       "<div>\n",
       "<style scoped>\n",
       "    .dataframe tbody tr th:only-of-type {\n",
       "        vertical-align: middle;\n",
       "    }\n",
       "\n",
       "    .dataframe tbody tr th {\n",
       "        vertical-align: top;\n",
       "    }\n",
       "\n",
       "    .dataframe thead th {\n",
       "        text-align: right;\n",
       "    }\n",
       "</style>\n",
       "<table border=\"1\" class=\"dataframe\">\n",
       "  <thead>\n",
       "    <tr style=\"text-align: right;\">\n",
       "      <th></th>\n",
       "      <th>Country</th>\n",
       "      <th>Rating</th>\n",
       "    </tr>\n",
       "  </thead>\n",
       "  <tbody>\n",
       "    <tr>\n",
       "      <th>0</th>\n",
       "      <td>China</td>\n",
       "      <td>3.200000</td>\n",
       "    </tr>\n",
       "    <tr>\n",
       "      <th>1</th>\n",
       "      <td>Mexico</td>\n",
       "      <td>3.400000</td>\n",
       "    </tr>\n",
       "    <tr>\n",
       "      <th>2</th>\n",
       "      <td>Canada</td>\n",
       "      <td>3.433333</td>\n",
       "    </tr>\n",
       "    <tr>\n",
       "      <th>3</th>\n",
       "      <td>Brazil</td>\n",
       "      <td>3.510000</td>\n",
       "    </tr>\n",
       "    <tr>\n",
       "      <th>4</th>\n",
       "      <td>Turkey</td>\n",
       "      <td>3.660000</td>\n",
       "    </tr>\n",
       "  </tbody>\n",
       "</table>\n",
       "</div>"
      ],
      "text/plain": [
       "  Country    Rating\n",
       "0   China  3.200000\n",
       "1  Mexico  3.400000\n",
       "2  Canada  3.433333\n",
       "3  Brazil  3.510000\n",
       "4  Turkey  3.660000"
      ]
     },
     "execution_count": 33,
     "metadata": {},
     "output_type": "execute_result"
    }
   ],
   "source": [
    "df_wines.groupby(['Country'])['Rating'].mean().sort_values(ascending=True)[:5].reset_index()"
   ]
  },
  {
   "cell_type": "markdown",
   "id": "e1e56cdc",
   "metadata": {},
   "source": [
    "#### Top 5 Regions with Lowest Ratings"
   ]
  },
  {
   "cell_type": "code",
   "execution_count": 34,
   "id": "3fd6128e",
   "metadata": {},
   "outputs": [
    {
     "data": {
      "text/html": [
       "<div>\n",
       "<style scoped>\n",
       "    .dataframe tbody tr th:only-of-type {\n",
       "        vertical-align: middle;\n",
       "    }\n",
       "\n",
       "    .dataframe tbody tr th {\n",
       "        vertical-align: top;\n",
       "    }\n",
       "\n",
       "    .dataframe thead th {\n",
       "        text-align: right;\n",
       "    }\n",
       "</style>\n",
       "<table border=\"1\" class=\"dataframe\">\n",
       "  <thead>\n",
       "    <tr style=\"text-align: right;\">\n",
       "      <th></th>\n",
       "      <th>Region</th>\n",
       "      <th>Rating</th>\n",
       "    </tr>\n",
       "  </thead>\n",
       "  <tbody>\n",
       "    <tr>\n",
       "      <th>0</th>\n",
       "      <td>Peloponnesos</td>\n",
       "      <td>2.20</td>\n",
       "    </tr>\n",
       "    <tr>\n",
       "      <th>1</th>\n",
       "      <td>Mâcon</td>\n",
       "      <td>3.10</td>\n",
       "    </tr>\n",
       "    <tr>\n",
       "      <th>2</th>\n",
       "      <td>Dolcetto d'Acqui</td>\n",
       "      <td>3.10</td>\n",
       "    </tr>\n",
       "    <tr>\n",
       "      <th>3</th>\n",
       "      <td>Ningxia</td>\n",
       "      <td>3.20</td>\n",
       "    </tr>\n",
       "    <tr>\n",
       "      <th>4</th>\n",
       "      <td>San Rafael</td>\n",
       "      <td>3.25</td>\n",
       "    </tr>\n",
       "  </tbody>\n",
       "</table>\n",
       "</div>"
      ],
      "text/plain": [
       "             Region  Rating\n",
       "0      Peloponnesos    2.20\n",
       "1             Mâcon    3.10\n",
       "2  Dolcetto d'Acqui    3.10\n",
       "3           Ningxia    3.20\n",
       "4        San Rafael    3.25"
      ]
     },
     "execution_count": 34,
     "metadata": {},
     "output_type": "execute_result"
    }
   ],
   "source": [
    "df_wines.groupby(['Region'])['Rating'].mean().sort_values(ascending=True)[:5].reset_index()"
   ]
  },
  {
   "cell_type": "markdown",
   "id": "481727bc",
   "metadata": {},
   "source": [
    "#### Top 5 Wineries with Lowest Ratings"
   ]
  },
  {
   "cell_type": "code",
   "execution_count": 35,
   "id": "634b6878",
   "metadata": {},
   "outputs": [
    {
     "data": {
      "text/html": [
       "<div>\n",
       "<style scoped>\n",
       "    .dataframe tbody tr th:only-of-type {\n",
       "        vertical-align: middle;\n",
       "    }\n",
       "\n",
       "    .dataframe tbody tr th {\n",
       "        vertical-align: top;\n",
       "    }\n",
       "\n",
       "    .dataframe thead th {\n",
       "        text-align: right;\n",
       "    }\n",
       "</style>\n",
       "<table border=\"1\" class=\"dataframe\">\n",
       "  <thead>\n",
       "    <tr style=\"text-align: right;\">\n",
       "      <th></th>\n",
       "      <th>Winery</th>\n",
       "      <th>Rating</th>\n",
       "    </tr>\n",
       "  </thead>\n",
       "  <tbody>\n",
       "    <tr>\n",
       "      <th>0</th>\n",
       "      <td>Cantina di Soave</td>\n",
       "      <td>2.700000</td>\n",
       "    </tr>\n",
       "    <tr>\n",
       "      <th>1</th>\n",
       "      <td>Piazzo</td>\n",
       "      <td>2.700000</td>\n",
       "    </tr>\n",
       "    <tr>\n",
       "      <th>2</th>\n",
       "      <td>Château Amandiers</td>\n",
       "      <td>2.800000</td>\n",
       "    </tr>\n",
       "    <tr>\n",
       "      <th>3</th>\n",
       "      <td>Cape Town Wine Co</td>\n",
       "      <td>2.866667</td>\n",
       "    </tr>\n",
       "    <tr>\n",
       "      <th>4</th>\n",
       "      <td>Crin Roja</td>\n",
       "      <td>2.900000</td>\n",
       "    </tr>\n",
       "  </tbody>\n",
       "</table>\n",
       "</div>"
      ],
      "text/plain": [
       "              Winery    Rating\n",
       "0   Cantina di Soave  2.700000\n",
       "1             Piazzo  2.700000\n",
       "2  Château Amandiers  2.800000\n",
       "3  Cape Town Wine Co  2.866667\n",
       "4          Crin Roja  2.900000"
      ]
     },
     "execution_count": 35,
     "metadata": {},
     "output_type": "execute_result"
    }
   ],
   "source": [
    "df_wines.groupby(['Winery'])['Rating'].mean().sort_values(ascending=True)[:5].reset_index()"
   ]
  },
  {
   "cell_type": "markdown",
   "id": "2f64dab4",
   "metadata": {},
   "source": [
    "### Lowest Prices"
   ]
  },
  {
   "cell_type": "markdown",
   "id": "0f4f4427",
   "metadata": {},
   "source": [
    "#### Top 5 Countries with Lowest Price"
   ]
  },
  {
   "cell_type": "code",
   "execution_count": 36,
   "id": "df6c5f7f",
   "metadata": {},
   "outputs": [
    {
     "data": {
      "text/html": [
       "<div>\n",
       "<style scoped>\n",
       "    .dataframe tbody tr th:only-of-type {\n",
       "        vertical-align: middle;\n",
       "    }\n",
       "\n",
       "    .dataframe tbody tr th {\n",
       "        vertical-align: top;\n",
       "    }\n",
       "\n",
       "    .dataframe thead th {\n",
       "        text-align: right;\n",
       "    }\n",
       "</style>\n",
       "<table border=\"1\" class=\"dataframe\">\n",
       "  <thead>\n",
       "    <tr style=\"text-align: right;\">\n",
       "      <th></th>\n",
       "      <th>Country</th>\n",
       "      <th>Price</th>\n",
       "    </tr>\n",
       "  </thead>\n",
       "  <tbody>\n",
       "    <tr>\n",
       "      <th>0</th>\n",
       "      <td>Mexico</td>\n",
       "      <td>8.650000</td>\n",
       "    </tr>\n",
       "    <tr>\n",
       "      <th>1</th>\n",
       "      <td>Bulgaria</td>\n",
       "      <td>10.150000</td>\n",
       "    </tr>\n",
       "    <tr>\n",
       "      <th>2</th>\n",
       "      <td>Romania</td>\n",
       "      <td>12.816216</td>\n",
       "    </tr>\n",
       "    <tr>\n",
       "      <th>3</th>\n",
       "      <td>Slovenia</td>\n",
       "      <td>13.050000</td>\n",
       "    </tr>\n",
       "    <tr>\n",
       "      <th>4</th>\n",
       "      <td>Hungary</td>\n",
       "      <td>13.366842</td>\n",
       "    </tr>\n",
       "  </tbody>\n",
       "</table>\n",
       "</div>"
      ],
      "text/plain": [
       "    Country      Price\n",
       "0    Mexico   8.650000\n",
       "1  Bulgaria  10.150000\n",
       "2   Romania  12.816216\n",
       "3  Slovenia  13.050000\n",
       "4   Hungary  13.366842"
      ]
     },
     "execution_count": 36,
     "metadata": {},
     "output_type": "execute_result"
    }
   ],
   "source": [
    "df_wines.groupby(['Country'])['Price'].mean().sort_values(ascending=True)[:5].reset_index()"
   ]
  },
  {
   "cell_type": "markdown",
   "id": "63336973",
   "metadata": {},
   "source": [
    "#### Top 5 Regions with Lowest Price"
   ]
  },
  {
   "cell_type": "code",
   "execution_count": 37,
   "id": "8b9bbb8e",
   "metadata": {},
   "outputs": [
    {
     "data": {
      "text/html": [
       "<div>\n",
       "<style scoped>\n",
       "    .dataframe tbody tr th:only-of-type {\n",
       "        vertical-align: middle;\n",
       "    }\n",
       "\n",
       "    .dataframe tbody tr th {\n",
       "        vertical-align: top;\n",
       "    }\n",
       "\n",
       "    .dataframe thead th {\n",
       "        text-align: right;\n",
       "    }\n",
       "</style>\n",
       "<table border=\"1\" class=\"dataframe\">\n",
       "  <thead>\n",
       "    <tr style=\"text-align: right;\">\n",
       "      <th></th>\n",
       "      <th>Region</th>\n",
       "      <th>Price</th>\n",
       "    </tr>\n",
       "  </thead>\n",
       "  <tbody>\n",
       "    <tr>\n",
       "      <th>0</th>\n",
       "      <td>Daunia</td>\n",
       "      <td>4.28</td>\n",
       "    </tr>\n",
       "    <tr>\n",
       "      <th>1</th>\n",
       "      <td>Peloponnesos</td>\n",
       "      <td>5.35</td>\n",
       "    </tr>\n",
       "    <tr>\n",
       "      <th>2</th>\n",
       "      <td>Manchuela</td>\n",
       "      <td>5.50</td>\n",
       "    </tr>\n",
       "    <tr>\n",
       "      <th>3</th>\n",
       "      <td>McGregor</td>\n",
       "      <td>5.55</td>\n",
       "    </tr>\n",
       "    <tr>\n",
       "      <th>4</th>\n",
       "      <td>Aude</td>\n",
       "      <td>5.68</td>\n",
       "    </tr>\n",
       "  </tbody>\n",
       "</table>\n",
       "</div>"
      ],
      "text/plain": [
       "         Region  Price\n",
       "0        Daunia   4.28\n",
       "1  Peloponnesos   5.35\n",
       "2     Manchuela   5.50\n",
       "3      McGregor   5.55\n",
       "4          Aude   5.68"
      ]
     },
     "execution_count": 37,
     "metadata": {},
     "output_type": "execute_result"
    }
   ],
   "source": [
    "df_wines.groupby(['Region'])['Price'].mean().sort_values(ascending=True)[:5].reset_index()"
   ]
  },
  {
   "cell_type": "markdown",
   "id": "1b47119b",
   "metadata": {},
   "source": [
    "#### Top 5 Wineries with Lowest Price"
   ]
  },
  {
   "cell_type": "code",
   "execution_count": 38,
   "id": "75ab7e14",
   "metadata": {},
   "outputs": [
    {
     "data": {
      "text/html": [
       "<div>\n",
       "<style scoped>\n",
       "    .dataframe tbody tr th:only-of-type {\n",
       "        vertical-align: middle;\n",
       "    }\n",
       "\n",
       "    .dataframe tbody tr th {\n",
       "        vertical-align: top;\n",
       "    }\n",
       "\n",
       "    .dataframe thead th {\n",
       "        text-align: right;\n",
       "    }\n",
       "</style>\n",
       "<table border=\"1\" class=\"dataframe\">\n",
       "  <thead>\n",
       "    <tr style=\"text-align: right;\">\n",
       "      <th></th>\n",
       "      <th>Winery</th>\n",
       "      <th>Price</th>\n",
       "    </tr>\n",
       "  </thead>\n",
       "  <tbody>\n",
       "    <tr>\n",
       "      <th>0</th>\n",
       "      <td>Gualtieri</td>\n",
       "      <td>3.15</td>\n",
       "    </tr>\n",
       "    <tr>\n",
       "      <th>1</th>\n",
       "      <td>Isidro Milagro</td>\n",
       "      <td>3.70</td>\n",
       "    </tr>\n",
       "    <tr>\n",
       "      <th>2</th>\n",
       "      <td>Mas Janeil</td>\n",
       "      <td>3.70</td>\n",
       "    </tr>\n",
       "    <tr>\n",
       "      <th>3</th>\n",
       "      <td>Monte Pietroso</td>\n",
       "      <td>3.79</td>\n",
       "    </tr>\n",
       "    <tr>\n",
       "      <th>4</th>\n",
       "      <td>Bodegas Victorianas</td>\n",
       "      <td>3.99</td>\n",
       "    </tr>\n",
       "  </tbody>\n",
       "</table>\n",
       "</div>"
      ],
      "text/plain": [
       "                Winery  Price\n",
       "0            Gualtieri   3.15\n",
       "1       Isidro Milagro   3.70\n",
       "2           Mas Janeil   3.70\n",
       "3       Monte Pietroso   3.79\n",
       "4  Bodegas Victorianas   3.99"
      ]
     },
     "execution_count": 38,
     "metadata": {},
     "output_type": "execute_result"
    }
   ],
   "source": [
    "df_wines.groupby(['Winery'])['Price'].mean().sort_values(ascending=True)[:5].reset_index()"
   ]
  },
  {
   "cell_type": "code",
   "execution_count": null,
   "id": "73badb50",
   "metadata": {},
   "outputs": [],
   "source": []
  },
  {
   "cell_type": "markdown",
   "id": "41e949c0",
   "metadata": {},
   "source": [
    "## Which years had the least and most total amount of ratings?"
   ]
  },
  {
   "cell_type": "code",
   "execution_count": 39,
   "id": "c5378056",
   "metadata": {},
   "outputs": [
    {
     "data": {
      "text/html": [
       "<div>\n",
       "<style scoped>\n",
       "    .dataframe tbody tr th:only-of-type {\n",
       "        vertical-align: middle;\n",
       "    }\n",
       "\n",
       "    .dataframe tbody tr th {\n",
       "        vertical-align: top;\n",
       "    }\n",
       "\n",
       "    .dataframe thead th {\n",
       "        text-align: right;\n",
       "    }\n",
       "</style>\n",
       "<table border=\"1\" class=\"dataframe\">\n",
       "  <thead>\n",
       "    <tr style=\"text-align: right;\">\n",
       "      <th></th>\n",
       "      <th>Year</th>\n",
       "      <th>NumberOfRatings</th>\n",
       "    </tr>\n",
       "  </thead>\n",
       "  <tbody>\n",
       "    <tr>\n",
       "      <th>0</th>\n",
       "      <td>2050</td>\n",
       "      <td>2125.002688</td>\n",
       "    </tr>\n",
       "    <tr>\n",
       "      <th>1</th>\n",
       "      <td>1989</td>\n",
       "      <td>1075.000000</td>\n",
       "    </tr>\n",
       "    <tr>\n",
       "      <th>2</th>\n",
       "      <td>1993</td>\n",
       "      <td>886.500000</td>\n",
       "    </tr>\n",
       "    <tr>\n",
       "      <th>3</th>\n",
       "      <td>2002</td>\n",
       "      <td>834.000000</td>\n",
       "    </tr>\n",
       "    <tr>\n",
       "      <th>4</th>\n",
       "      <td>2008</td>\n",
       "      <td>629.386139</td>\n",
       "    </tr>\n",
       "  </tbody>\n",
       "</table>\n",
       "</div>"
      ],
      "text/plain": [
       "   Year  NumberOfRatings\n",
       "0  2050      2125.002688\n",
       "1  1989      1075.000000\n",
       "2  1993       886.500000\n",
       "3  2002       834.000000\n",
       "4  2008       629.386139"
      ]
     },
     "execution_count": 39,
     "metadata": {},
     "output_type": "execute_result"
    }
   ],
   "source": [
    "df_wines.groupby(['Year'])['NumberOfRatings'].mean().sort_values(ascending=False)[:5].reset_index()"
   ]
  },
  {
   "cell_type": "markdown",
   "id": "3dc75d46",
   "metadata": {},
   "source": [
    "So we can see that Year 2050 have highest amount of ratings but as we know that we put 2050 to that value when the 2 years combined for that wine.\\\n",
    "so we can say that 1989 have the Highest Amount of Ratings "
   ]
  },
  {
   "cell_type": "code",
   "execution_count": 40,
   "id": "d70f02ef",
   "metadata": {},
   "outputs": [
    {
     "data": {
      "text/html": [
       "<div>\n",
       "<style scoped>\n",
       "    .dataframe tbody tr th:only-of-type {\n",
       "        vertical-align: middle;\n",
       "    }\n",
       "\n",
       "    .dataframe tbody tr th {\n",
       "        vertical-align: top;\n",
       "    }\n",
       "\n",
       "    .dataframe thead th {\n",
       "        text-align: right;\n",
       "    }\n",
       "</style>\n",
       "<table border=\"1\" class=\"dataframe\">\n",
       "  <thead>\n",
       "    <tr style=\"text-align: right;\">\n",
       "      <th></th>\n",
       "      <th>Year</th>\n",
       "      <th>NumberOfRatings</th>\n",
       "    </tr>\n",
       "  </thead>\n",
       "  <tbody>\n",
       "    <tr>\n",
       "      <th>0</th>\n",
       "      <td>2020</td>\n",
       "      <td>61.500000</td>\n",
       "    </tr>\n",
       "    <tr>\n",
       "      <th>1</th>\n",
       "      <td>1996</td>\n",
       "      <td>104.000000</td>\n",
       "    </tr>\n",
       "    <tr>\n",
       "      <th>2</th>\n",
       "      <td>1995</td>\n",
       "      <td>156.000000</td>\n",
       "    </tr>\n",
       "    <tr>\n",
       "      <th>3</th>\n",
       "      <td>2019</td>\n",
       "      <td>189.458007</td>\n",
       "    </tr>\n",
       "    <tr>\n",
       "      <th>4</th>\n",
       "      <td>1988</td>\n",
       "      <td>203.000000</td>\n",
       "    </tr>\n",
       "  </tbody>\n",
       "</table>\n",
       "</div>"
      ],
      "text/plain": [
       "   Year  NumberOfRatings\n",
       "0  2020        61.500000\n",
       "1  1996       104.000000\n",
       "2  1995       156.000000\n",
       "3  2019       189.458007\n",
       "4  1988       203.000000"
      ]
     },
     "execution_count": 40,
     "metadata": {},
     "output_type": "execute_result"
    }
   ],
   "source": [
    "df_wines.groupby(['Year'])['NumberOfRatings'].mean().sort_values(ascending=True)[:5].reset_index()"
   ]
  },
  {
   "cell_type": "markdown",
   "id": "44d0066b",
   "metadata": {},
   "source": [
    "Year 2020 have the Lowest amount of Ratings"
   ]
  },
  {
   "cell_type": "code",
   "execution_count": null,
   "id": "72cd83ed",
   "metadata": {},
   "outputs": [],
   "source": []
  },
  {
   "cell_type": "markdown",
   "id": "3bdf4365",
   "metadata": {},
   "source": [
    "## Any one winery that disproportionately total high average ratings and higher price? "
   ]
  },
  {
   "cell_type": "code",
   "execution_count": 41,
   "id": "c9eb6c4c",
   "metadata": {},
   "outputs": [
    {
     "data": {
      "text/html": [
       "<div>\n",
       "<style scoped>\n",
       "    .dataframe tbody tr th:only-of-type {\n",
       "        vertical-align: middle;\n",
       "    }\n",
       "\n",
       "    .dataframe tbody tr th {\n",
       "        vertical-align: top;\n",
       "    }\n",
       "\n",
       "    .dataframe thead th {\n",
       "        text-align: right;\n",
       "    }\n",
       "</style>\n",
       "<table border=\"1\" class=\"dataframe\">\n",
       "  <thead>\n",
       "    <tr style=\"text-align: right;\">\n",
       "      <th></th>\n",
       "      <th>Rating</th>\n",
       "      <th>Price</th>\n",
       "    </tr>\n",
       "    <tr>\n",
       "      <th>Winery</th>\n",
       "      <th></th>\n",
       "      <th></th>\n",
       "    </tr>\n",
       "  </thead>\n",
       "  <tbody>\n",
       "    <tr>\n",
       "      <th>Pétrus</th>\n",
       "      <td>4.7</td>\n",
       "      <td>3410.79</td>\n",
       "    </tr>\n",
       "  </tbody>\n",
       "</table>\n",
       "</div>"
      ],
      "text/plain": [
       "        Rating    Price\n",
       "Winery                 \n",
       "Pétrus     4.7  3410.79"
      ]
     },
     "execution_count": 41,
     "metadata": {},
     "output_type": "execute_result"
    }
   ],
   "source": [
    "df_wines.groupby(['Winery'])[['Rating', 'Price']].mean().sort_values(by=['Price','Rating'], ascending=False)[:1]"
   ]
  },
  {
   "cell_type": "markdown",
   "id": "62d3a757",
   "metadata": {},
   "source": [
    "The Petrus Winery have the Highest Price and then the Highest Rating in that Price."
   ]
  },
  {
   "cell_type": "code",
   "execution_count": null,
   "id": "d9f8c01d",
   "metadata": {},
   "outputs": [],
   "source": []
  },
  {
   "cell_type": "markdown",
   "id": "2bd222b9",
   "metadata": {},
   "source": [
    "## Are there any trends between years, regions, and rating?"
   ]
  },
  {
   "cell_type": "code",
   "execution_count": 42,
   "id": "2600438b",
   "metadata": {},
   "outputs": [
    {
     "data": {
      "image/png": "[encoded data removed]",
      "text/plain": [
       "<Figure size 800x300 with 1 Axes>"
      ]
     },
     "metadata": {},
     "output_type": "display_data"
    }
   ],
   "source": [
    "ax = df_wines.groupby(['Year'])['Price'].mean().plot(figsize=(8, 3))\n",
    "ax.set_title('Trends of prices over the Years', fontsize=15)\n",
    "ax.set_xlabel(\"Year\", fontsize=12)\n",
    "ax.set_ylabel(\"Price\", fontsize=12)\n",
    "plt.show()"
   ]
  },
  {
   "cell_type": "markdown",
   "id": "837136cb",
   "metadata": {},
   "source": [
    "From here we can see that The Prices are huge from around year 1985-1995."
   ]
  },
  {
   "cell_type": "code",
   "execution_count": 43,
   "id": "72d36fce",
   "metadata": {},
   "outputs": [
    {
     "data": {
      "image/png": "[encoded data removed]",
      "text/plain": [
       "<Figure size 800x300 with 1 Axes>"
      ]
     },
     "metadata": {},
     "output_type": "display_data"
    }
   ],
   "source": [
    "ax = df_wines.groupby(['Region'])['Price'].mean().plot(figsize=(8, 3))\n",
    "ax.set_title('Trends of prices in Regions', fontsize=15)\n",
    "ax.set_xlabel(\"Regions\", fontsize=12)\n",
    "ax.set_ylabel(\"Price\", fontsize=12)\n",
    "plt.show()"
   ]
  },
  {
   "cell_type": "code",
   "execution_count": 44,
   "id": "e0faec9f",
   "metadata": {},
   "outputs": [
    {
     "data": {
      "image/png": "[encoded data removed]",
      "text/plain": [
       "<Figure size 800x300 with 1 Axes>"
      ]
     },
     "metadata": {},
     "output_type": "display_data"
    }
   ],
   "source": [
    "ax = df_wines.groupby(['Rating'])['Price'].mean().plot(figsize=(8, 3))\n",
    "ax.set_title('Trends of prices in Ratings', fontsize=15)\n",
    "ax.set_xlabel(\"Ratings\", fontsize=12)\n",
    "ax.set_ylabel(\"Price\", fontsize=12)\n",
    "plt.show()"
   ]
  },
  {
   "cell_type": "markdown",
   "id": "5804767a",
   "metadata": {},
   "source": [
    "This shows that when the Ratings of Wines increase by 4 the Price also increases."
   ]
  },
  {
   "cell_type": "markdown",
   "id": "f718d5c6",
   "metadata": {},
   "source": [
    "## Correlation Graph"
   ]
  },
  {
   "cell_type": "code",
   "execution_count": 45,
   "id": "dffb8046",
   "metadata": {},
   "outputs": [
    {
     "data": {
      "text/plain": [
       "<AxesSubplot: >"
      ]
     },
     "execution_count": 45,
     "metadata": {},
     "output_type": "execute_result"
    },
    {
     "data": {
      "image/png": "[encoded data removed]",
      "text/plain": [
       "<Figure size 400x300 with 2 Axes>"
      ]
     },
     "metadata": {},
     "output_type": "display_data"
    }
   ],
   "source": [
    "sns.heatmap(df_wines.corr(), annot=True, fmt=\".2f\")"
   ]
  },
  {
   "cell_type": "code",
   "execution_count": null,
   "id": "ff1095d6",
   "metadata": {},
   "outputs": [],
   "source": []
  },
  {
   "cell_type": "markdown",
   "id": "f9d679bc",
   "metadata": {},
   "source": [
    "## Regression to predict Ratings"
   ]
  },
  {
   "cell_type": "code",
   "execution_count": 46,
   "id": "bc3e09e2",
   "metadata": {},
   "outputs": [],
   "source": [
    "# Here we are selecting the columns\n",
    "\n",
    "df_wines1 = df_wines.drop(['Name'], axis=1)\n",
    "cat_cols = [col for col in df_wines1.columns if df_wines1[col].dtype == \"object\"]"
   ]
  },
  {
   "cell_type": "code",
   "execution_count": 47,
   "id": "adaec484",
   "metadata": {},
   "outputs": [
    {
     "name": "stdout",
     "output_type": "stream",
     "text": [
      "<class 'pandas.core.frame.DataFrame'>\n",
      "Int64Index: 13834 entries, 0 to 1006\n",
      "Data columns (total 9 columns):\n",
      " #   Column           Non-Null Count  Dtype  \n",
      "---  ------           --------------  -----  \n",
      " 0   Name             13834 non-null  object \n",
      " 1   Country          13834 non-null  object \n",
      " 2   Region           13834 non-null  object \n",
      " 3   Winery           13834 non-null  object \n",
      " 4   Rating           13834 non-null  float64\n",
      " 5   NumberOfRatings  13834 non-null  int64  \n",
      " 6   Price            13834 non-null  float64\n",
      " 7   Year             13834 non-null  int64  \n",
      " 8   Wine_Category    13834 non-null  object \n",
      "dtypes: float64(2), int64(2), object(5)\n",
      "memory usage: 1.1+ MB\n"
     ]
    }
   ],
   "source": [
    "df_wines.info()"
   ]
  },
  {
   "cell_type": "markdown",
   "id": "6e4f3d3e",
   "metadata": {},
   "source": [
    "### Label Encoding on Categorical Data"
   ]
  },
  {
   "cell_type": "code",
   "execution_count": 49,
   "id": "f26ae2b6",
   "metadata": {},
   "outputs": [],
   "source": [
    "# converting the textual categorical columns to integers through label Encoding\n",
    "label_encoder = LabelEncoder()\n",
    "for col in cat_cols:\n",
    "    df_wines1[col] = label_encoder.fit_transform(df_wines1[col])"
   ]
  },
  {
   "cell_type": "markdown",
   "id": "dcab45a6",
   "metadata": {},
   "source": [
    "### Applied Linear Regression, Lasso Regression and Ridge Regression"
   ]
  },
  {
   "cell_type": "code",
   "execution_count": 54,
   "id": "f42aec54",
   "metadata": {},
   "outputs": [
    {
     "name": "stdout",
     "output_type": "stream",
     "text": [
      "Linear Regression:\n",
      "Mean squared error: 0.08\n",
      "R2 score: 0.06\n",
      "Lasso Regression:\n",
      "Mean squared error: 0.08\n",
      "R2 score: 0.11\n",
      "Ridge Regression:\n",
      "Mean squared error: 0.08\n",
      "R2 score: 0.06\n"
     ]
    }
   ],
   "source": [
    "\n",
    "X = df_wines1.drop(['Rating'], axis=1) # This contains Feature Attribute\n",
    "y = df_wines1['Rating'] # This contain Target Attribte.\n",
    "\n",
    "# Split data into training and testing sets\n",
    "X_train, X_test, y_train, y_test = train_test_split(X, y, test_size=0.2, random_state=42)\n",
    "\n",
    "# Scale the data\n",
    "scaler = StandardScaler()\n",
    "X_train_scaled = scaler.fit_transform(X_train)\n",
    "X_test_scaled = scaler.transform(X_test)\n",
    "\n",
    "# Linear Regression\n",
    "lr = LinearRegression()\n",
    "lr.fit(X_train_scaled, y_train)\n",
    "lr_pred = lr.predict(X_test_scaled)\n",
    "\n",
    "# Lasso Regression\n",
    "lasso = Lasso(alpha=0.1)\n",
    "lasso.fit(X_train_scaled, y_train)\n",
    "lasso_pred = lasso.predict(X_test_scaled)\n",
    "\n",
    "# Ridge Regression\n",
    "ridge = Ridge(alpha=0.1)\n",
    "ridge.fit(X_train_scaled, y_train)\n",
    "ridge_pred = ridge.predict(X_test_scaled)\n",
    "\n",
    "# Evaluate the models\n",
    "print(\"Linear Regression:\")\n",
    "print(\"Mean squared error: %.2f\" % mean_squared_error(y_test, lr_pred))\n",
    "print(\"R2 score: %.2f\" % r2_score(y_test, lr_pred))\n",
    "\n",
    "print(\"Lasso Regression:\")\n",
    "print(\"Mean squared error: %.2f\" % mean_squared_error(y_test, lasso_pred))\n",
    "print(\"R2 score: %.2f\" % r2_score(y_test, lasso_pred))\n",
    "\n",
    "print(\"Ridge Regression:\")\n",
    "print(\"Mean squared error: %.2f\" % mean_squared_error(y_test, ridge_pred))\n",
    "print(\"R2 score: %.2f\" % r2_score(y_test, ridge_pred))\n"
   ]
  },
  {
   "cell_type": "markdown",
   "id": "a6ade16a",
   "metadata": {},
   "source": [
    "so From above we can see that our model doesn't worked best on our data to predict the Rating.\\\n",
    "R-squared of 0.06 is not a good fit for the data and suggests that there is little to no relationship between the independent variable(s) and the dependent variable. It is important to note that a low R-squared value does not necessarily mean that the independent variable(s) are not significant or that the model is useless, but it does suggest that the model is not a strong predictor of the dependent variable."
   ]
  },
  {
   "cell_type": "code",
   "execution_count": null,
   "id": "8db18bc2",
   "metadata": {},
   "outputs": [],
   "source": []
  }
 ],
 "metadata": {
  "kernelspec": {
   "display_name": "Python 3 (ipykernel)",
   "language": "python",
   "name": "python3"
  },
  "language_info": {
   "codemirror_mode": {
    "name": "ipython",
    "version": 3
   },
   "file_extension": ".py",
   "mimetype": "text/x-python",
   "name": "python",
   "nbconvert_exporter": "python",
   "pygments_lexer": "ipython3",
   "version": "3.9.13"
  }
 },
 "nbformat": 4,
 "nbformat_minor": 5
}
